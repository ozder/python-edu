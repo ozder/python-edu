{
 "cells": [
  {
   "cell_type": "code",
   "execution_count": 1,
   "metadata": {
    "collapsed": true,
    "ExecuteTime": {
     "end_time": "2023-07-19T07:32:27.104532400Z",
     "start_time": "2023-07-19T07:32:27.080047800Z"
    }
   },
   "outputs": [],
   "source": [
    "def fib(n):\n",
    "    print('calculating fib({0}'.format(n))\n",
    "    return 1 if n < 3 else fib(n - 1) + fib(n - 2)"
   ]
  },
  {
   "cell_type": "code",
   "execution_count": 2,
   "outputs": [
    {
     "name": "stdout",
     "output_type": "stream",
     "text": [
      "calculating fib(2\n"
     ]
    },
    {
     "data": {
      "text/plain": "1"
     },
     "execution_count": 2,
     "metadata": {},
     "output_type": "execute_result"
    }
   ],
   "source": [
    "fib(2)"
   ],
   "metadata": {
    "collapsed": false,
    "ExecuteTime": {
     "end_time": "2023-07-19T07:32:27.170797500Z",
     "start_time": "2023-07-19T07:32:27.111711600Z"
    }
   }
  },
  {
   "cell_type": "code",
   "execution_count": 4,
   "outputs": [],
   "source": [
    "class Fib:\n",
    "    def __init__(self):\n",
    "        self.cache = {1: 1, 2: 1}\n",
    "\n",
    "    def fib(self, n):\n",
    "        if n not in self.cache:\n",
    "            print('Calc fib {0}'.format(n))\n",
    "            self.cache[n] = self.fib(n - 1) + self.fib(n - 2)\n",
    "        return self.cache[n]"
   ],
   "metadata": {
    "collapsed": false,
    "ExecuteTime": {
     "end_time": "2023-07-19T07:34:45.255048300Z",
     "start_time": "2023-07-19T07:34:45.199843900Z"
    }
   }
  },
  {
   "cell_type": "code",
   "execution_count": 5,
   "outputs": [],
   "source": [
    "f = Fib()"
   ],
   "metadata": {
    "collapsed": false,
    "ExecuteTime": {
     "end_time": "2023-07-19T07:34:58.273627900Z",
     "start_time": "2023-07-19T07:34:58.118892300Z"
    }
   }
  },
  {
   "cell_type": "code",
   "execution_count": 8,
   "outputs": [
    {
     "name": "stdout",
     "output_type": "stream",
     "text": [
      "Calc fib 10\n",
      "Calc fib 9\n",
      "Calc fib 8\n",
      "Calc fib 7\n",
      "Calc fib 6\n",
      "Calc fib 5\n"
     ]
    },
    {
     "data": {
      "text/plain": "55"
     },
     "execution_count": 8,
     "metadata": {},
     "output_type": "execute_result"
    }
   ],
   "source": [
    "f.fib(10)"
   ],
   "metadata": {
    "collapsed": false,
    "ExecuteTime": {
     "end_time": "2023-07-19T07:46:54.315552700Z",
     "start_time": "2023-07-19T07:46:54.214380500Z"
    }
   }
  },
  {
   "cell_type": "code",
   "execution_count": 12,
   "outputs": [],
   "source": [
    "def fib():\n",
    "    cache = {1: 1, 2: 1}\n",
    "\n",
    "    def calc_fib(n):\n",
    "        if n not in cache:\n",
    "            print('Calc fib {0}'.format(n))\n",
    "            cache[n] = calc_fib(n - 1) + calc_fib(n - 2)\n",
    "        return cache[n]\n",
    "    return  calc_fib"
   ],
   "metadata": {
    "collapsed": false,
    "ExecuteTime": {
     "end_time": "2023-07-19T07:58:57.786574100Z",
     "start_time": "2023-07-19T07:58:57.529352600Z"
    }
   }
  },
  {
   "cell_type": "code",
   "execution_count": 15,
   "outputs": [],
   "source": [
    "g = fib()"
   ],
   "metadata": {
    "collapsed": false,
    "ExecuteTime": {
     "end_time": "2023-07-19T07:59:54.916269600Z",
     "start_time": "2023-07-19T07:59:54.872870500Z"
    }
   }
  },
  {
   "cell_type": "code",
   "execution_count": 16,
   "outputs": [
    {
     "name": "stdout",
     "output_type": "stream",
     "text": [
      "Calc fib 10\n",
      "Calc fib 9\n",
      "Calc fib 8\n",
      "Calc fib 7\n",
      "Calc fib 6\n",
      "Calc fib 5\n",
      "Calc fib 4\n",
      "Calc fib 3\n"
     ]
    },
    {
     "data": {
      "text/plain": "55"
     },
     "execution_count": 16,
     "metadata": {},
     "output_type": "execute_result"
    }
   ],
   "source": [
    "g(10)"
   ],
   "metadata": {
    "collapsed": false,
    "ExecuteTime": {
     "end_time": "2023-07-19T07:59:55.477839Z",
     "start_time": "2023-07-19T07:59:55.409849600Z"
    }
   }
  },
  {
   "cell_type": "code",
   "execution_count": 24,
   "outputs": [],
   "source": [
    "def memoize(fn):\n",
    "    cache = dict()\n",
    "\n",
    "    def inner(n):\n",
    "        if n not in cache:\n",
    "            cache[n] = fn(n)\n",
    "        return cache[n]\n",
    "    return  inner"
   ],
   "metadata": {
    "collapsed": false,
    "ExecuteTime": {
     "end_time": "2023-07-19T08:07:26.336941200Z",
     "start_time": "2023-07-19T08:07:26.318832200Z"
    }
   }
  },
  {
   "cell_type": "code",
   "execution_count": 25,
   "outputs": [],
   "source": [
    "@memoize\n",
    "def fib(n):\n",
    "    print('calc fib{0}'.format(n))\n",
    "    return 1 if n < 3 else fib(n - 1) + fib(n - 2)"
   ],
   "metadata": {
    "collapsed": false,
    "ExecuteTime": {
     "end_time": "2023-07-19T08:07:26.974270400Z",
     "start_time": "2023-07-19T08:07:26.860818Z"
    }
   }
  },
  {
   "cell_type": "code",
   "execution_count": 26,
   "outputs": [
    {
     "name": "stdout",
     "output_type": "stream",
     "text": [
      "calc fib10\n",
      "calc fib9\n",
      "calc fib8\n",
      "calc fib7\n",
      "calc fib6\n",
      "calc fib5\n",
      "calc fib4\n",
      "calc fib3\n",
      "calc fib2\n",
      "calc fib1\n"
     ]
    },
    {
     "data": {
      "text/plain": "55"
     },
     "execution_count": 26,
     "metadata": {},
     "output_type": "execute_result"
    }
   ],
   "source": [
    "fib(10)"
   ],
   "metadata": {
    "collapsed": false,
    "ExecuteTime": {
     "end_time": "2023-07-19T08:07:27.809565800Z",
     "start_time": "2023-07-19T08:07:27.664698Z"
    }
   }
  },
  {
   "cell_type": "code",
   "execution_count": 27,
   "outputs": [],
   "source": [
    "@memoize\n",
    "def fact(n):\n",
    "    print('calculating {0}'.format(n))\n",
    "    return 1 if n < 2 else n * fact(n-1)"
   ],
   "metadata": {
    "collapsed": false,
    "ExecuteTime": {
     "end_time": "2023-07-19T08:08:55.542765100Z",
     "start_time": "2023-07-19T08:08:55.420414200Z"
    }
   }
  },
  {
   "cell_type": "code",
   "execution_count": 28,
   "outputs": [
    {
     "name": "stdout",
     "output_type": "stream",
     "text": [
      "calculating 6\n",
      "calculating 5\n",
      "calculating 4\n",
      "calculating 3\n",
      "calculating 2\n",
      "calculating 1\n"
     ]
    },
    {
     "data": {
      "text/plain": "720"
     },
     "execution_count": 28,
     "metadata": {},
     "output_type": "execute_result"
    }
   ],
   "source": [
    "fact(6)"
   ],
   "metadata": {
    "collapsed": false,
    "ExecuteTime": {
     "end_time": "2023-07-19T08:08:58.619098500Z",
     "start_time": "2023-07-19T08:08:58.546784500Z"
    }
   }
  },
  {
   "cell_type": "code",
   "execution_count": 29,
   "outputs": [
    {
     "data": {
      "text/plain": "720"
     },
     "execution_count": 29,
     "metadata": {},
     "output_type": "execute_result"
    }
   ],
   "source": [
    "fact(6)"
   ],
   "metadata": {
    "collapsed": false,
    "ExecuteTime": {
     "end_time": "2023-07-19T08:09:09.516947200Z",
     "start_time": "2023-07-19T08:09:09.478441800Z"
    }
   }
  },
  {
   "cell_type": "code",
   "execution_count": 30,
   "outputs": [],
   "source": [
    "@memoize\n",
    "def fib(n):\n",
    "    return 1 if n < 3 else fib(n -1) + fib(n - 2)"
   ],
   "metadata": {
    "collapsed": false,
    "ExecuteTime": {
     "end_time": "2023-07-19T08:14:29.196317100Z",
     "start_time": "2023-07-19T08:14:29.129178600Z"
    }
   }
  },
  {
   "cell_type": "code",
   "execution_count": 33,
   "outputs": [
    {
     "name": "stdout",
     "output_type": "stream",
     "text": [
      "14930352\n",
      "0.0021840000990778208\n"
     ]
    }
   ],
   "source": [
    "from time import perf_counter\n",
    "\n",
    "start = perf_counter()\n",
    "print(fib(36))\n",
    "end = perf_counter()\n",
    "print(end - start)"
   ],
   "metadata": {
    "collapsed": false,
    "ExecuteTime": {
     "end_time": "2023-07-19T08:15:38.100058Z",
     "start_time": "2023-07-19T08:15:37.934906100Z"
    }
   }
  },
  {
   "cell_type": "code",
   "execution_count": 34,
   "outputs": [],
   "source": [
    "from functools import lru_cache"
   ],
   "metadata": {
    "collapsed": false,
    "ExecuteTime": {
     "end_time": "2023-07-19T08:18:51.137414500Z",
     "start_time": "2023-07-19T08:18:51.059910300Z"
    }
   }
  },
  {
   "cell_type": "code",
   "execution_count": 43,
   "outputs": [],
   "source": [
    "@lru_cache(maxsize=8)\n",
    "def fib(n):\n",
    "    print('calc {0}'.format(n))\n",
    "    return 1 if n < 3 else fib(n -1) + fib(n - 2)"
   ],
   "metadata": {
    "collapsed": false,
    "ExecuteTime": {
     "end_time": "2023-07-19T08:21:51.102872Z",
     "start_time": "2023-07-19T08:21:51.019046200Z"
    }
   }
  },
  {
   "cell_type": "code",
   "execution_count": 44,
   "outputs": [
    {
     "name": "stdout",
     "output_type": "stream",
     "text": [
      "calc 10\n",
      "calc 9\n",
      "calc 8\n",
      "calc 7\n",
      "calc 6\n",
      "calc 5\n",
      "calc 4\n",
      "calc 3\n",
      "calc 2\n",
      "calc 1\n"
     ]
    },
    {
     "data": {
      "text/plain": "55"
     },
     "execution_count": 44,
     "metadata": {},
     "output_type": "execute_result"
    }
   ],
   "source": [
    "fib(10)"
   ],
   "metadata": {
    "collapsed": false,
    "ExecuteTime": {
     "end_time": "2023-07-19T08:21:56.599989800Z",
     "start_time": "2023-07-19T08:21:56.510600400Z"
    }
   }
  },
  {
   "cell_type": "code",
   "execution_count": 47,
   "outputs": [
    {
     "data": {
      "text/plain": "987"
     },
     "execution_count": 47,
     "metadata": {},
     "output_type": "execute_result"
    }
   ],
   "source": [
    "fib(16)"
   ],
   "metadata": {
    "collapsed": false,
    "ExecuteTime": {
     "end_time": "2023-07-19T08:22:29.786045900Z",
     "start_time": "2023-07-19T08:22:29.727925700Z"
    }
   }
  },
  {
   "cell_type": "code",
   "execution_count": 49,
   "outputs": [
    {
     "name": "stdout",
     "output_type": "stream",
     "text": [
      "calc 3\n",
      "calc 2\n"
     ]
    },
    {
     "data": {
      "text/plain": "2"
     },
     "execution_count": 49,
     "metadata": {},
     "output_type": "execute_result"
    }
   ],
   "source": [
    "fib(3)"
   ],
   "metadata": {
    "collapsed": false,
    "ExecuteTime": {
     "end_time": "2023-07-19T08:22:47.035958200Z",
     "start_time": "2023-07-19T08:22:46.960819400Z"
    }
   }
  },
  {
   "cell_type": "code",
   "execution_count": null,
   "outputs": [],
   "source": [],
   "metadata": {
    "collapsed": false
   }
  }
 ],
 "metadata": {
  "kernelspec": {
   "display_name": "Python 3",
   "language": "python",
   "name": "python3"
  },
  "language_info": {
   "codemirror_mode": {
    "name": "ipython",
    "version": 2
   },
   "file_extension": ".py",
   "mimetype": "text/x-python",
   "name": "python",
   "nbconvert_exporter": "python",
   "pygments_lexer": "ipython2",
   "version": "2.7.6"
  }
 },
 "nbformat": 4,
 "nbformat_minor": 0
}
